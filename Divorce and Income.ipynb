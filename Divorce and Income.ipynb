{
 "cells": [
  {
   "cell_type": "markdown",
   "metadata": {},
   "source": [
    "# About this Dataset  \n",
    "++++ Census.gov  \n",
    "+++ American Community Survey Data on Marriage and Divorce  \n",
    "Beginning in 2008, the ACS tables include survey-based estimates of marriage and divorce rates (per 1,000 adults). Estimates of marriage and divorce rates based on administrative data are available from the National Center for Health Statistics.\n",
    "\n",
    "++ Marital Events of Americans: 2009 (ACS-13)\n",
    "- [Supplemental Table XLS - 29k](https://www.census.gov/hhes/socdemo/marriage/data/acs/SuppMarEvents_T1_Fig56.xls)\n"
   ]
  },
  {
   "cell_type": "code",
   "execution_count": 1,
   "metadata": {
    "collapsed": true
   },
   "outputs": [],
   "source": [
    "import pandas as pd\n",
    "import numpy as np\n",
    "import matplotlib.pyplot as plt\n",
    "import seaborn as sns\n",
    "import warnings\n",
    "warnings.simplefilter(action = \"ignore\", category = FutureWarning) \n",
    "%matplotlib inline"
   ]
  },
  {
   "cell_type": "code",
   "execution_count": null,
   "metadata": {
    "collapsed": true
   },
   "outputs": [],
   "source": [
    "martial = pd.read_excel('https://www.census.gov/hhes/socdemo/marriage/data/acs/SuppMarEvents_T1_Fig56.xls')"
   ]
  }
 ],
 "metadata": {
  "kernelspec": {
   "display_name": "Python [default]",
   "language": "python",
   "name": "python2"
  },
  "language_info": {
   "codemirror_mode": {
    "name": "ipython",
    "version": 2
   },
   "file_extension": ".py",
   "mimetype": "text/x-python",
   "name": "python",
   "nbconvert_exporter": "python",
   "pygments_lexer": "ipython2",
   "version": "2.7.12"
  }
 },
 "nbformat": 4,
 "nbformat_minor": 0
}
