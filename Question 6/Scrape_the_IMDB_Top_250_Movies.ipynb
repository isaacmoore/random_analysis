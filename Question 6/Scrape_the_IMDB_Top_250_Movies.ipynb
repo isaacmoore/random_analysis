{
  "nbformat": 4,
  "nbformat_minor": 0,
  "metadata": {
    "colab": {
      "name": "Scrape the IMDB Top 250 Movies and data analysis.ipynb",
      "provenance": [],
      "collapsed_sections": [],
      "include_colab_link": true
    },
    "kernelspec": {
      "name": "python3",
      "display_name": "Python 3"
    }
  },
  "cells": [
    {
      "cell_type": "markdown",
      "metadata": {
        "id": "view-in-github",
        "colab_type": "text"
      },
      "source": [
        "<a href=\"https://colab.research.google.com/github/isaacmoore/random_analysis/blob/master/Question%206/Scrape_the_IMDB_Top_250_Movies.ipynb\" target=\"_parent\"><img src=\"https://colab.research.google.com/assets/colab-badge.svg\" alt=\"Open In Colab\"/></a>"
      ]
    },
    {
      "cell_type": "code",
      "metadata": {
        "id": "DdghO7_w3nyB",
        "colab_type": "code",
        "colab": {}
      },
      "source": [
        "import pandas as pd\n",
        "import numpy as np\n",
        "import requests\n",
        "from bs4 import BeautifulSoup\n",
        "import matplotlib.pyplot as plt\n",
        "import seaborn as sns"
      ],
      "execution_count": 0,
      "outputs": []
    },
    {
      "cell_type": "code",
      "metadata": {
        "id": "5bzTKdAM40rK",
        "colab_type": "code",
        "colab": {}
      },
      "source": [
        "import matplotlib.pyplot as plturl = 'https://www.imdb.com/search/title/?groups=top_250&sort=user_rating,desc&start='\n",
        "starter = ['1','51','101','151','201']"
      ],
      "execution_count": 0,
      "outputs": []
    },
    {
      "cell_type": "code",
      "metadata": {
        "id": "DYSivgiw30Yq",
        "colab_type": "code",
        "colab": {}
      },
      "source": [
        "movie_list = []\n",
        "movie_rank = []\n",
        "movie_year = []\n",
        "movie_rating = []\n",
        "movie_metascore = []\n",
        "movie_n_votes = []\n",
        "movie_rated = []\n",
        "movie_runtime = []\n",
        "\n",
        "for x in starter:\n",
        "  page = requests.get(url+x)\n",
        "  soup = BeautifulSoup(page.content, \"html.parser\")\n",
        "  movie_containers = soup.find_all('div', class_ = 'lister-item mode-advanced')\n",
        "\n",
        "  for i in range(len(movie_containers)):\n",
        "    movie = movie_containers[i]\n",
        "    #Movie Name\n",
        "    movie_list.append(movie.h3.a.text)\n",
        "    #Rank\n",
        "    movie_rank.append(movie.h3.span.text)\n",
        "    #Year\n",
        "    a = movie.h3\n",
        "    movie_year.append(a.find_all('span', class_ = 'lister-item-year text-muted unbold')[0].text)\n",
        "    #Rating\n",
        "    movie_rating.append(movie.strong.text)\n",
        "    #Metascore\n",
        "    if len(movie.find_all('div', class_ = 'inline-block ratings-metascore')) == 0:\n",
        "      movie_metascore.append(np.NaN)\n",
        "    else:\n",
        "      mscore = movie.find_all('div', class_ = 'inline-block ratings-metascore')[-1]\n",
        "      movie_metascore.append(int(mscore.span.text))\n",
        "    #Number of Votes\n",
        "    votes = movie.find('span', attrs = {'name':'nv'})\n",
        "    movie_n_votes.append(int(votes['data-value']))\n",
        "    #Rated -- do an if/else; some movies might not have a rating\n",
        "    if len(movie.find_all(class_ ='certificate')) ==0:\n",
        "      movie_rated.append(np.NaN)\n",
        "    else:\n",
        "      rated = movie.find_all(class_ ='certificate')\n",
        "      movie_rated.append(rated[-1].text)\n",
        "    #Runtime\n",
        "    movie_runtime.append(movie.find(class_ ='runtime').text)\n"
      ],
      "execution_count": 0,
      "outputs": []
    },
    {
      "cell_type": "code",
      "metadata": {
        "id": "hqITEJBTlbqH",
        "colab_type": "code",
        "outputId": "1c1e4f10-c82e-4662-ef45-e9e53aa26edf",
        "colab": {
          "base_uri": "https://localhost:8080/",
          "height": 35
        }
      },
      "source": [
        "print(len(movie_rated))"
      ],
      "execution_count": 4,
      "outputs": [
        {
          "output_type": "stream",
          "text": [
            "250\n"
          ],
          "name": "stdout"
        }
      ]
    },
    {
      "cell_type": "code",
      "metadata": {
        "id": "mVYxwUkTgMs4",
        "colab_type": "code",
        "outputId": "c78e2cdf-4126-442e-d23d-18c936ee6b66",
        "colab": {
          "base_uri": "https://localhost:8080/",
          "height": 35
        }
      },
      "source": [
        "movie_containers[14].find(class_ ='runtime').text"
      ],
      "execution_count": 5,
      "outputs": [
        {
          "output_type": "execute_result",
          "data": {
            "text/plain": [
              "'128 min'"
            ]
          },
          "metadata": {
            "tags": []
          },
          "execution_count": 5
        }
      ]
    },
    {
      "cell_type": "code",
      "metadata": {
        "id": "1tH_GF4tjewi",
        "colab_type": "code",
        "colab": {}
      },
      "source": [
        ""
      ],
      "execution_count": 0,
      "outputs": []
    },
    {
      "cell_type": "code",
      "metadata": {
        "id": "enbCa1EJ6g-r",
        "colab_type": "code",
        "outputId": "1bc47131-2e66-4f0f-d83d-e8c7b4a9af6f",
        "colab": {
          "base_uri": "https://localhost:8080/",
          "height": 206
        }
      },
      "source": [
        "#=== Creating the dataframe ===\n",
        "df = pd.DataFrame({'rank':movie_rank,'name':movie_list,'year':movie_year,'rating':movie_rating,'metascore':movie_metascore,'n_votes':movie_n_votes,'rated':movie_rated,'runtime':movie_runtime})\n",
        "df.tail()"
      ],
      "execution_count": 6,
      "outputs": [
        {
          "output_type": "execute_result",
          "data": {
            "text/html": [
              "<div>\n",
              "<style scoped>\n",
              "    .dataframe tbody tr th:only-of-type {\n",
              "        vertical-align: middle;\n",
              "    }\n",
              "\n",
              "    .dataframe tbody tr th {\n",
              "        vertical-align: top;\n",
              "    }\n",
              "\n",
              "    .dataframe thead th {\n",
              "        text-align: right;\n",
              "    }\n",
              "</style>\n",
              "<table border=\"1\" class=\"dataframe\">\n",
              "  <thead>\n",
              "    <tr style=\"text-align: right;\">\n",
              "      <th></th>\n",
              "      <th>rank</th>\n",
              "      <th>name</th>\n",
              "      <th>year</th>\n",
              "      <th>rating</th>\n",
              "      <th>metascore</th>\n",
              "      <th>n_votes</th>\n",
              "      <th>rated</th>\n",
              "      <th>runtime</th>\n",
              "    </tr>\n",
              "  </thead>\n",
              "  <tbody>\n",
              "    <tr>\n",
              "      <th>245</th>\n",
              "      <td>246.</td>\n",
              "      <td>Monsters, Inc.</td>\n",
              "      <td>(2001)</td>\n",
              "      <td>8.0</td>\n",
              "      <td>78.0</td>\n",
              "      <td>761126</td>\n",
              "      <td>G</td>\n",
              "      <td>92 min</td>\n",
              "    </tr>\n",
              "    <tr>\n",
              "      <th>246</th>\n",
              "      <td>247.</td>\n",
              "      <td>Aladdin</td>\n",
              "      <td>(1992)</td>\n",
              "      <td>8.0</td>\n",
              "      <td>86.0</td>\n",
              "      <td>338654</td>\n",
              "      <td>G</td>\n",
              "      <td>90 min</td>\n",
              "    </tr>\n",
              "    <tr>\n",
              "      <th>247</th>\n",
              "      <td>248.</td>\n",
              "      <td>Castle in the Sky</td>\n",
              "      <td>(1986)</td>\n",
              "      <td>8.0</td>\n",
              "      <td>78.0</td>\n",
              "      <td>131809</td>\n",
              "      <td>PG</td>\n",
              "      <td>125 min</td>\n",
              "    </tr>\n",
              "    <tr>\n",
              "      <th>248</th>\n",
              "      <td>249.</td>\n",
              "      <td>The Terminator</td>\n",
              "      <td>(1984)</td>\n",
              "      <td>8.0</td>\n",
              "      <td>84.0</td>\n",
              "      <td>752802</td>\n",
              "      <td>R</td>\n",
              "      <td>107 min</td>\n",
              "    </tr>\n",
              "    <tr>\n",
              "      <th>249</th>\n",
              "      <td>250.</td>\n",
              "      <td>Butch Cassidy and the Sundance Kid</td>\n",
              "      <td>(1969)</td>\n",
              "      <td>8.0</td>\n",
              "      <td>66.0</td>\n",
              "      <td>191437</td>\n",
              "      <td>PG</td>\n",
              "      <td>110 min</td>\n",
              "    </tr>\n",
              "  </tbody>\n",
              "</table>\n",
              "</div>"
            ],
            "text/plain": [
              "     rank                                name    year  ... n_votes  rated  runtime\n",
              "245  246.                      Monsters, Inc.  (2001)  ...  761126      G   92 min\n",
              "246  247.                             Aladdin  (1992)  ...  338654      G   90 min\n",
              "247  248.                   Castle in the Sky  (1986)  ...  131809     PG  125 min\n",
              "248  249.                      The Terminator  (1984)  ...  752802      R  107 min\n",
              "249  250.  Butch Cassidy and the Sundance Kid  (1969)  ...  191437     PG  110 min\n",
              "\n",
              "[5 rows x 8 columns]"
            ]
          },
          "metadata": {
            "tags": []
          },
          "execution_count": 6
        }
      ]
    },
    {
      "cell_type": "code",
      "metadata": {
        "id": "5-odgXNUIUFf",
        "colab_type": "code",
        "colab": {}
      },
      "source": [
        "#=== Cleaning the dataframe ===\n",
        "df['year'] = df.year.str.replace('(','').str.replace(')','')\n",
        "df['year'] = df.year.str.replace('I ','')\n",
        "df['year'] = df.year.astype(int)\n",
        "df['rating'] = df.rating.astype(float)\n",
        "df['runtime'] = df.runtime.str.replace(' min', '')\n",
        "df['runtime'] = df.runtime.astype(int)\n",
        "df['rated'] = df.rated.str.replace('GP', 'PG')"
      ],
      "execution_count": 0,
      "outputs": []
    },
    {
      "cell_type": "code",
      "metadata": {
        "id": "iC6s3AJfKjhR",
        "colab_type": "code",
        "outputId": "a0470dfc-f692-400b-c3a2-363b90d0d7e1",
        "colab": {
          "base_uri": "https://localhost:8080/",
          "height": 181
        }
      },
      "source": [
        "df.runtime.describe()"
      ],
      "execution_count": 8,
      "outputs": [
        {
          "output_type": "execute_result",
          "data": {
            "text/plain": [
              "count    250.000000\n",
              "mean     130.768000\n",
              "std       33.164464\n",
              "min       45.000000\n",
              "25%      108.250000\n",
              "50%      127.000000\n",
              "75%      147.750000\n",
              "max      321.000000\n",
              "Name: runtime, dtype: float64"
            ]
          },
          "metadata": {
            "tags": []
          },
          "execution_count": 8
        }
      ]
    },
    {
      "cell_type": "code",
      "metadata": {
        "id": "baZl3WfcjPWs",
        "colab_type": "code",
        "outputId": "d5417678-5a2e-4795-904a-318c7f0070af",
        "colab": {
          "base_uri": "https://localhost:8080/",
          "height": 833
        }
      },
      "source": [
        "df.head(25)"
      ],
      "execution_count": 9,
      "outputs": [
        {
          "output_type": "execute_result",
          "data": {
            "text/html": [
              "<div>\n",
              "<style scoped>\n",
              "    .dataframe tbody tr th:only-of-type {\n",
              "        vertical-align: middle;\n",
              "    }\n",
              "\n",
              "    .dataframe tbody tr th {\n",
              "        vertical-align: top;\n",
              "    }\n",
              "\n",
              "    .dataframe thead th {\n",
              "        text-align: right;\n",
              "    }\n",
              "</style>\n",
              "<table border=\"1\" class=\"dataframe\">\n",
              "  <thead>\n",
              "    <tr style=\"text-align: right;\">\n",
              "      <th></th>\n",
              "      <th>rank</th>\n",
              "      <th>name</th>\n",
              "      <th>year</th>\n",
              "      <th>rating</th>\n",
              "      <th>metascore</th>\n",
              "      <th>n_votes</th>\n",
              "      <th>rated</th>\n",
              "      <th>runtime</th>\n",
              "    </tr>\n",
              "  </thead>\n",
              "  <tbody>\n",
              "    <tr>\n",
              "      <th>0</th>\n",
              "      <td>1.</td>\n",
              "      <td>The Shawshank Redemption</td>\n",
              "      <td>1994</td>\n",
              "      <td>9.3</td>\n",
              "      <td>80.0</td>\n",
              "      <td>2162107</td>\n",
              "      <td>R</td>\n",
              "      <td>142</td>\n",
              "    </tr>\n",
              "    <tr>\n",
              "      <th>1</th>\n",
              "      <td>2.</td>\n",
              "      <td>The Godfather</td>\n",
              "      <td>1972</td>\n",
              "      <td>9.2</td>\n",
              "      <td>100.0</td>\n",
              "      <td>1483950</td>\n",
              "      <td>R</td>\n",
              "      <td>175</td>\n",
              "    </tr>\n",
              "    <tr>\n",
              "      <th>2</th>\n",
              "      <td>3.</td>\n",
              "      <td>The Dark Knight</td>\n",
              "      <td>2008</td>\n",
              "      <td>9.0</td>\n",
              "      <td>84.0</td>\n",
              "      <td>2137023</td>\n",
              "      <td>PG-13</td>\n",
              "      <td>152</td>\n",
              "    </tr>\n",
              "    <tr>\n",
              "      <th>3</th>\n",
              "      <td>4.</td>\n",
              "      <td>The Godfather: Part II</td>\n",
              "      <td>1974</td>\n",
              "      <td>9.0</td>\n",
              "      <td>90.0</td>\n",
              "      <td>1033375</td>\n",
              "      <td>R</td>\n",
              "      <td>202</td>\n",
              "    </tr>\n",
              "    <tr>\n",
              "      <th>4</th>\n",
              "      <td>5.</td>\n",
              "      <td>The Lord of the Rings: The Return of the King</td>\n",
              "      <td>2003</td>\n",
              "      <td>8.9</td>\n",
              "      <td>94.0</td>\n",
              "      <td>1535233</td>\n",
              "      <td>PG-13</td>\n",
              "      <td>201</td>\n",
              "    </tr>\n",
              "    <tr>\n",
              "      <th>5</th>\n",
              "      <td>6.</td>\n",
              "      <td>Pulp Fiction</td>\n",
              "      <td>1994</td>\n",
              "      <td>8.9</td>\n",
              "      <td>94.0</td>\n",
              "      <td>1697142</td>\n",
              "      <td>R</td>\n",
              "      <td>154</td>\n",
              "    </tr>\n",
              "    <tr>\n",
              "      <th>6</th>\n",
              "      <td>7.</td>\n",
              "      <td>Schindler's List</td>\n",
              "      <td>1993</td>\n",
              "      <td>8.9</td>\n",
              "      <td>94.0</td>\n",
              "      <td>1121611</td>\n",
              "      <td>R</td>\n",
              "      <td>195</td>\n",
              "    </tr>\n",
              "    <tr>\n",
              "      <th>7</th>\n",
              "      <td>8.</td>\n",
              "      <td>12 Angry Men</td>\n",
              "      <td>1957</td>\n",
              "      <td>8.9</td>\n",
              "      <td>96.0</td>\n",
              "      <td>618485</td>\n",
              "      <td>Not Rated</td>\n",
              "      <td>96</td>\n",
              "    </tr>\n",
              "    <tr>\n",
              "      <th>8</th>\n",
              "      <td>9.</td>\n",
              "      <td>Joker</td>\n",
              "      <td>2019</td>\n",
              "      <td>8.8</td>\n",
              "      <td>59.0</td>\n",
              "      <td>486933</td>\n",
              "      <td>R</td>\n",
              "      <td>122</td>\n",
              "    </tr>\n",
              "    <tr>\n",
              "      <th>9</th>\n",
              "      <td>10.</td>\n",
              "      <td>Inception</td>\n",
              "      <td>2010</td>\n",
              "      <td>8.8</td>\n",
              "      <td>74.0</td>\n",
              "      <td>1895111</td>\n",
              "      <td>PG-13</td>\n",
              "      <td>148</td>\n",
              "    </tr>\n",
              "    <tr>\n",
              "      <th>10</th>\n",
              "      <td>11.</td>\n",
              "      <td>Fight Club</td>\n",
              "      <td>1999</td>\n",
              "      <td>8.8</td>\n",
              "      <td>66.0</td>\n",
              "      <td>1727353</td>\n",
              "      <td>R</td>\n",
              "      <td>139</td>\n",
              "    </tr>\n",
              "    <tr>\n",
              "      <th>11</th>\n",
              "      <td>12.</td>\n",
              "      <td>The Lord of the Rings: The Fellowship of the Ring</td>\n",
              "      <td>2001</td>\n",
              "      <td>8.8</td>\n",
              "      <td>92.0</td>\n",
              "      <td>1550487</td>\n",
              "      <td>PG-13</td>\n",
              "      <td>178</td>\n",
              "    </tr>\n",
              "    <tr>\n",
              "      <th>12</th>\n",
              "      <td>13.</td>\n",
              "      <td>Forrest Gump</td>\n",
              "      <td>1994</td>\n",
              "      <td>8.8</td>\n",
              "      <td>82.0</td>\n",
              "      <td>1664718</td>\n",
              "      <td>PG-13</td>\n",
              "      <td>142</td>\n",
              "    </tr>\n",
              "    <tr>\n",
              "      <th>13</th>\n",
              "      <td>14.</td>\n",
              "      <td>The Good, the Bad and the Ugly</td>\n",
              "      <td>1966</td>\n",
              "      <td>8.8</td>\n",
              "      <td>90.0</td>\n",
              "      <td>641617</td>\n",
              "      <td>R</td>\n",
              "      <td>178</td>\n",
              "    </tr>\n",
              "    <tr>\n",
              "      <th>14</th>\n",
              "      <td>15.</td>\n",
              "      <td>The Lord of the Rings: The Two Towers</td>\n",
              "      <td>2002</td>\n",
              "      <td>8.7</td>\n",
              "      <td>87.0</td>\n",
              "      <td>1388655</td>\n",
              "      <td>PG-13</td>\n",
              "      <td>179</td>\n",
              "    </tr>\n",
              "    <tr>\n",
              "      <th>15</th>\n",
              "      <td>16.</td>\n",
              "      <td>The Matrix</td>\n",
              "      <td>1999</td>\n",
              "      <td>8.7</td>\n",
              "      <td>73.0</td>\n",
              "      <td>1556257</td>\n",
              "      <td>R</td>\n",
              "      <td>136</td>\n",
              "    </tr>\n",
              "    <tr>\n",
              "      <th>16</th>\n",
              "      <td>17.</td>\n",
              "      <td>Goodfellas</td>\n",
              "      <td>1990</td>\n",
              "      <td>8.7</td>\n",
              "      <td>90.0</td>\n",
              "      <td>934959</td>\n",
              "      <td>R</td>\n",
              "      <td>146</td>\n",
              "    </tr>\n",
              "    <tr>\n",
              "      <th>17</th>\n",
              "      <td>18.</td>\n",
              "      <td>Star Wars: Episode V - The Empire Strikes Back</td>\n",
              "      <td>1980</td>\n",
              "      <td>8.7</td>\n",
              "      <td>82.0</td>\n",
              "      <td>1080056</td>\n",
              "      <td>PG</td>\n",
              "      <td>124</td>\n",
              "    </tr>\n",
              "    <tr>\n",
              "      <th>18</th>\n",
              "      <td>19.</td>\n",
              "      <td>One Flew Over the Cuckoo's Nest</td>\n",
              "      <td>1975</td>\n",
              "      <td>8.7</td>\n",
              "      <td>83.0</td>\n",
              "      <td>853705</td>\n",
              "      <td>R</td>\n",
              "      <td>133</td>\n",
              "    </tr>\n",
              "    <tr>\n",
              "      <th>19</th>\n",
              "      <td>20.</td>\n",
              "      <td>Harakiri</td>\n",
              "      <td>1962</td>\n",
              "      <td>8.7</td>\n",
              "      <td>85.0</td>\n",
              "      <td>28057</td>\n",
              "      <td>Not Rated</td>\n",
              "      <td>133</td>\n",
              "    </tr>\n",
              "    <tr>\n",
              "      <th>20</th>\n",
              "      <td>21.</td>\n",
              "      <td>Parasite</td>\n",
              "      <td>2019</td>\n",
              "      <td>8.6</td>\n",
              "      <td>96.0</td>\n",
              "      <td>80848</td>\n",
              "      <td>R</td>\n",
              "      <td>132</td>\n",
              "    </tr>\n",
              "    <tr>\n",
              "      <th>21</th>\n",
              "      <td>22.</td>\n",
              "      <td>Drishyam</td>\n",
              "      <td>2013</td>\n",
              "      <td>8.6</td>\n",
              "      <td>NaN</td>\n",
              "      <td>27040</td>\n",
              "      <td>Not Rated</td>\n",
              "      <td>160</td>\n",
              "    </tr>\n",
              "    <tr>\n",
              "      <th>22</th>\n",
              "      <td>23.</td>\n",
              "      <td>Interstellar</td>\n",
              "      <td>2014</td>\n",
              "      <td>8.6</td>\n",
              "      <td>74.0</td>\n",
              "      <td>1350162</td>\n",
              "      <td>PG-13</td>\n",
              "      <td>169</td>\n",
              "    </tr>\n",
              "    <tr>\n",
              "      <th>23</th>\n",
              "      <td>24.</td>\n",
              "      <td>City of God</td>\n",
              "      <td>2002</td>\n",
              "      <td>8.6</td>\n",
              "      <td>79.0</td>\n",
              "      <td>659897</td>\n",
              "      <td>R</td>\n",
              "      <td>130</td>\n",
              "    </tr>\n",
              "    <tr>\n",
              "      <th>24</th>\n",
              "      <td>25.</td>\n",
              "      <td>Spirited Away</td>\n",
              "      <td>2001</td>\n",
              "      <td>8.6</td>\n",
              "      <td>96.0</td>\n",
              "      <td>577801</td>\n",
              "      <td>PG</td>\n",
              "      <td>125</td>\n",
              "    </tr>\n",
              "  </tbody>\n",
              "</table>\n",
              "</div>"
            ],
            "text/plain": [
              "   rank                                               name  ...      rated  runtime\n",
              "0    1.                           The Shawshank Redemption  ...          R      142\n",
              "1    2.                                      The Godfather  ...          R      175\n",
              "2    3.                                    The Dark Knight  ...      PG-13      152\n",
              "3    4.                             The Godfather: Part II  ...          R      202\n",
              "4    5.      The Lord of the Rings: The Return of the King  ...      PG-13      201\n",
              "5    6.                                       Pulp Fiction  ...          R      154\n",
              "6    7.                                   Schindler's List  ...          R      195\n",
              "7    8.                                       12 Angry Men  ...  Not Rated       96\n",
              "8    9.                                              Joker  ...          R      122\n",
              "9   10.                                          Inception  ...      PG-13      148\n",
              "10  11.                                         Fight Club  ...          R      139\n",
              "11  12.  The Lord of the Rings: The Fellowship of the Ring  ...      PG-13      178\n",
              "12  13.                                       Forrest Gump  ...      PG-13      142\n",
              "13  14.                     The Good, the Bad and the Ugly  ...          R      178\n",
              "14  15.              The Lord of the Rings: The Two Towers  ...      PG-13      179\n",
              "15  16.                                         The Matrix  ...          R      136\n",
              "16  17.                                         Goodfellas  ...          R      146\n",
              "17  18.     Star Wars: Episode V - The Empire Strikes Back  ...         PG      124\n",
              "18  19.                    One Flew Over the Cuckoo's Nest  ...          R      133\n",
              "19  20.                                           Harakiri  ...  Not Rated      133\n",
              "20  21.                                           Parasite  ...          R      132\n",
              "21  22.                                           Drishyam  ...  Not Rated      160\n",
              "22  23.                                       Interstellar  ...      PG-13      169\n",
              "23  24.                                        City of God  ...          R      130\n",
              "24  25.                                      Spirited Away  ...         PG      125\n",
              "\n",
              "[25 rows x 8 columns]"
            ]
          },
          "metadata": {
            "tags": []
          },
          "execution_count": 9
        }
      ]
    },
    {
      "cell_type": "markdown",
      "metadata": {
        "id": "xpA-9ltfTTvK",
        "colab_type": "text"
      },
      "source": [
        "## EDA"
      ]
    },
    {
      "cell_type": "markdown",
      "metadata": {
        "id": "pz-UjHsWSN5f",
        "colab_type": "text"
      },
      "source": [
        "Movie with the worst metascore"
      ]
    },
    {
      "cell_type": "code",
      "metadata": {
        "id": "JpFobR-NLr0_",
        "colab_type": "code",
        "outputId": "c6cf0f62-94bf-41f1-cf8c-913aa9e28070",
        "colab": {
          "base_uri": "https://localhost:8080/",
          "height": 81
        }
      },
      "source": [
        "df[(df.metascore == df.metascore.min())]"
      ],
      "execution_count": 10,
      "outputs": [
        {
          "output_type": "execute_result",
          "data": {
            "text/html": [
              "<div>\n",
              "<style scoped>\n",
              "    .dataframe tbody tr th:only-of-type {\n",
              "        vertical-align: middle;\n",
              "    }\n",
              "\n",
              "    .dataframe tbody tr th {\n",
              "        vertical-align: top;\n",
              "    }\n",
              "\n",
              "    .dataframe thead th {\n",
              "        text-align: right;\n",
              "    }\n",
              "</style>\n",
              "<table border=\"1\" class=\"dataframe\">\n",
              "  <thead>\n",
              "    <tr style=\"text-align: right;\">\n",
              "      <th></th>\n",
              "      <th>rank</th>\n",
              "      <th>name</th>\n",
              "      <th>year</th>\n",
              "      <th>rating</th>\n",
              "      <th>metascore</th>\n",
              "      <th>n_votes</th>\n",
              "      <th>rated</th>\n",
              "      <th>runtime</th>\n",
              "    </tr>\n",
              "  </thead>\n",
              "  <tbody>\n",
              "    <tr>\n",
              "      <th>90</th>\n",
              "      <td>91.</td>\n",
              "      <td>Snatch</td>\n",
              "      <td>2000</td>\n",
              "      <td>8.3</td>\n",
              "      <td>55.0</td>\n",
              "      <td>735199</td>\n",
              "      <td>R</td>\n",
              "      <td>102</td>\n",
              "    </tr>\n",
              "  </tbody>\n",
              "</table>\n",
              "</div>"
            ],
            "text/plain": [
              "   rank    name  year  rating  metascore  n_votes rated  runtime\n",
              "90  91.  Snatch  2000     8.3       55.0   735199     R      102"
            ]
          },
          "metadata": {
            "tags": []
          },
          "execution_count": 10
        }
      ]
    },
    {
      "cell_type": "markdown",
      "metadata": {
        "id": "kSDvwwJiSWqj",
        "colab_type": "text"
      },
      "source": [
        "Movie with the most number of votes"
      ]
    },
    {
      "cell_type": "code",
      "metadata": {
        "id": "TWFaCdU2SU4F",
        "colab_type": "code",
        "colab": {
          "base_uri": "https://localhost:8080/",
          "height": 81
        },
        "outputId": "aace78fb-c216-4457-ba89-d5266daaa816"
      },
      "source": [
        "df[(df.n_votes == df.n_votes.max())]"
      ],
      "execution_count": 11,
      "outputs": [
        {
          "output_type": "execute_result",
          "data": {
            "text/html": [
              "<div>\n",
              "<style scoped>\n",
              "    .dataframe tbody tr th:only-of-type {\n",
              "        vertical-align: middle;\n",
              "    }\n",
              "\n",
              "    .dataframe tbody tr th {\n",
              "        vertical-align: top;\n",
              "    }\n",
              "\n",
              "    .dataframe thead th {\n",
              "        text-align: right;\n",
              "    }\n",
              "</style>\n",
              "<table border=\"1\" class=\"dataframe\">\n",
              "  <thead>\n",
              "    <tr style=\"text-align: right;\">\n",
              "      <th></th>\n",
              "      <th>rank</th>\n",
              "      <th>name</th>\n",
              "      <th>year</th>\n",
              "      <th>rating</th>\n",
              "      <th>metascore</th>\n",
              "      <th>n_votes</th>\n",
              "      <th>rated</th>\n",
              "      <th>runtime</th>\n",
              "    </tr>\n",
              "  </thead>\n",
              "  <tbody>\n",
              "    <tr>\n",
              "      <th>0</th>\n",
              "      <td>1.</td>\n",
              "      <td>The Shawshank Redemption</td>\n",
              "      <td>1994</td>\n",
              "      <td>9.3</td>\n",
              "      <td>80.0</td>\n",
              "      <td>2162107</td>\n",
              "      <td>R</td>\n",
              "      <td>142</td>\n",
              "    </tr>\n",
              "  </tbody>\n",
              "</table>\n",
              "</div>"
            ],
            "text/plain": [
              "  rank                      name  year  ...  n_votes  rated  runtime\n",
              "0   1.  The Shawshank Redemption  1994  ...  2162107      R      142\n",
              "\n",
              "[1 rows x 8 columns]"
            ]
          },
          "metadata": {
            "tags": []
          },
          "execution_count": 11
        }
      ]
    },
    {
      "cell_type": "markdown",
      "metadata": {
        "id": "RUzXKkyU53h-",
        "colab_type": "text"
      },
      "source": [
        "100 Metascore Scored movies"
      ]
    },
    {
      "cell_type": "code",
      "metadata": {
        "id": "tA4G5dFH52m3",
        "colab_type": "code",
        "outputId": "54977300-14da-484d-d3f1-d46e74cb0bda",
        "colab": {
          "base_uri": "https://localhost:8080/",
          "height": 380
        }
      },
      "source": [
        "print(df[(df.metascore == 100)])\n",
        "print('\\n')\n",
        "print(df[(df.metascore == 100)].year.describe())"
      ],
      "execution_count": 12,
      "outputs": [
        {
          "output_type": "stream",
          "text": [
            "     rank                name  year  ...  n_votes     rated  runtime\n",
            "1      2.       The Godfather  1972  ...  1483950         R      175\n",
            "51    52.          Casablanca  1942  ...   488240        PG      102\n",
            "79    80.         Rear Window  1954  ...   410954        PG      112\n",
            "111  112.  Lawrence of Arabia  1962  ...   249245  Approved      228\n",
            "114  115.             Vertigo  1958  ...   331296        PG      128\n",
            "119  120.        Citizen Kane  1941  ...   372297        PG      119\n",
            "\n",
            "[6 rows x 8 columns]\n",
            "\n",
            "\n",
            "count       6.000000\n",
            "mean     1954.833333\n",
            "std        11.940128\n",
            "min      1941.000000\n",
            "25%      1945.000000\n",
            "50%      1956.000000\n",
            "75%      1961.000000\n",
            "max      1972.000000\n",
            "Name: year, dtype: float64\n"
          ],
          "name": "stdout"
        }
      ]
    },
    {
      "cell_type": "markdown",
      "metadata": {
        "id": "w6vlMlQb7xWj",
        "colab_type": "text"
      },
      "source": [
        "Above average movies, by metascore"
      ]
    },
    {
      "cell_type": "code",
      "metadata": {
        "id": "XRIU6acp7wiG",
        "colab_type": "code",
        "outputId": "4d44549f-c079-4212-9634-30dd12d95aeb",
        "colab": {
          "base_uri": "https://localhost:8080/",
          "height": 471
        }
      },
      "source": [
        "print(df[df.metascore > df.metascore.mean()])\n",
        "print('\\n')\n",
        "print(df.metascore.describe())"
      ],
      "execution_count": 13,
      "outputs": [
        {
          "output_type": "stream",
          "text": [
            "     rank                                           name  ...      rated  runtime\n",
            "1      2.                                  The Godfather  ...          R      175\n",
            "2      3.                                The Dark Knight  ...      PG-13      152\n",
            "3      4.                         The Godfather: Part II  ...          R      202\n",
            "4      5.  The Lord of the Rings: The Return of the King  ...      PG-13      201\n",
            "5      6.                                   Pulp Fiction  ...          R      154\n",
            "..    ...                                            ...  ...        ...      ...\n",
            "240  241.                             Gone with the Wind  ...     Passed      238\n",
            "241  242.                          It Happened One Night  ...  Not Rated      105\n",
            "244  245.                                  Before Sunset  ...          R       80\n",
            "246  247.                                        Aladdin  ...          G       90\n",
            "248  249.                                 The Terminator  ...          R      107\n",
            "\n",
            "[114 rows x 8 columns]\n",
            "\n",
            "\n",
            "count    209.000000\n",
            "mean      81.971292\n",
            "std       11.049675\n",
            "min       55.000000\n",
            "25%       75.000000\n",
            "50%       83.000000\n",
            "75%       90.000000\n",
            "max      100.000000\n",
            "Name: metascore, dtype: float64\n"
          ],
          "name": "stdout"
        }
      ]
    },
    {
      "cell_type": "code",
      "metadata": {
        "id": "QE_uuAMEQDBn",
        "colab_type": "code",
        "outputId": "4ca54b83-509d-4b34-f4e3-0b560e55b7c6",
        "colab": {
          "base_uri": "https://localhost:8080/",
          "height": 515
        }
      },
      "source": [
        "df.groupby('year').rating.mean().plot(figsize=[12,8])"
      ],
      "execution_count": 14,
      "outputs": [
        {
          "output_type": "execute_result",
          "data": {
            "text/plain": [
              "<matplotlib.axes._subplots.AxesSubplot at 0x7fb93712d780>"
            ]
          },
          "metadata": {
            "tags": []
          },
          "execution_count": 14
        },
        {
          "output_type": "display_data",
          "data": {
            "image/png": "[encoded data removed]",
            "text/plain": [
              "<Figure size 864x576 with 1 Axes>"
            ]
          },
          "metadata": {
            "tags": []
          }
        }
      ]
    },
    {
      "cell_type": "code",
      "metadata": {
        "id": "ARafRrEAPbyr",
        "colab_type": "code",
        "outputId": "e8014b71-a587-496d-cc17-a390ace7b642",
        "colab": {
          "base_uri": "https://localhost:8080/",
          "height": 422
        }
      },
      "source": [
        "df.groupby('year').name.count().plot(kind='bar',figsize=[18,6])"
      ],
      "execution_count": 15,
      "outputs": [
        {
          "output_type": "execute_result",
          "data": {
            "text/plain": [
              "<matplotlib.axes._subplots.AxesSubplot at 0x7fb936b94ac8>"
            ]
          },
          "metadata": {
            "tags": []
          },
          "execution_count": 15
        },
        {
          "output_type": "display_data",
          "data": {
            "image/png": "[encoded data removed]",
            "text/plain": [
              "<Figure size 1296x432 with 1 Axes>"
            ]
          },
          "metadata": {
            "tags": []
          }
        }
      ]
    },
    {
      "cell_type": "code",
      "metadata": {
        "id": "h37fenCkRGfh",
        "colab_type": "code",
        "outputId": "d42d408b-7ad6-4f98-a899-e7ad29053b25",
        "colab": {
          "base_uri": "https://localhost:8080/",
          "height": 515
        }
      },
      "source": [
        "df.groupby('year').n_votes.sum().plot(figsize=[12,8])"
      ],
      "execution_count": 16,
      "outputs": [
        {
          "output_type": "execute_result",
          "data": {
            "text/plain": [
              "<matplotlib.axes._subplots.AxesSubplot at 0x7fb936e6ddd8>"
            ]
          },
          "metadata": {
            "tags": []
          },
          "execution_count": 16
        },
        {
          "output_type": "display_data",
          "data": {
            "image/png": "[encoded data removed]",
            "text/plain": [
              "<Figure size 864x576 with 1 Axes>"
            ]
          },
          "metadata": {
            "tags": []
          }
        }
      ]
    },
    {
      "cell_type": "code",
      "metadata": {
        "id": "3Smq6dSP07_N",
        "colab_type": "code",
        "outputId": "bb24f8d8-1f9c-4931-e6fe-b1e4e70bda4c",
        "colab": {
          "base_uri": "https://localhost:8080/",
          "height": 503
        }
      },
      "source": [
        "ax = df.plot.scatter(x='rating',y='metascore',c='n_votes',colormap='Blues',title='Metascore/Rating',figsize=[12,8])\n",
        "ax.set(xlabel='Rating', ylabel='Maetascore')\n",
        "#ax.set_ylabel('Maetascore')"
      ],
      "execution_count": 17,
      "outputs": [
        {
          "output_type": "execute_result",
          "data": {
            "text/plain": [
              "[Text(0, 0.5, 'Maetascore'), Text(0.5, 0, 'Rating')]"
            ]
          },
          "metadata": {
            "tags": []
          },
          "execution_count": 17
        },
        {
          "output_type": "display_data",
          "data": {
            "image/png": "[encoded data removed]",
            "text/plain": [
              "<Figure size 864x576 with 2 Axes>"
            ]
          },
          "metadata": {
            "tags": []
          }
        }
      ]
    },
    {
      "cell_type": "code",
      "metadata": {
        "id": "o3gtPxJrDxK3",
        "colab_type": "code",
        "colab": {
          "base_uri": "https://localhost:8080/",
          "height": 400
        },
        "outputId": "ad150010-2353-4004-8792-113dd29a3f4e"
      },
      "source": [
        "df.groupby('rated').describe()"
      ],
      "execution_count": 47,
      "outputs": [
        {
          "output_type": "execute_result",
          "data": {
            "text/html": [
              "<div>\n",
              "<style scoped>\n",
              "    .dataframe tbody tr th:only-of-type {\n",
              "        vertical-align: middle;\n",
              "    }\n",
              "\n",
              "    .dataframe tbody tr th {\n",
              "        vertical-align: top;\n",
              "    }\n",
              "\n",
              "    .dataframe thead tr th {\n",
              "        text-align: left;\n",
              "    }\n",
              "\n",
              "    .dataframe thead tr:last-of-type th {\n",
              "        text-align: right;\n",
              "    }\n",
              "</style>\n",
              "<table border=\"1\" class=\"dataframe\">\n",
              "  <thead>\n",
              "    <tr>\n",
              "      <th></th>\n",
              "      <th colspan=\"8\" halign=\"left\">year</th>\n",
              "      <th colspan=\"8\" halign=\"left\">rating</th>\n",
              "      <th colspan=\"8\" halign=\"left\">metascore</th>\n",
              "      <th colspan=\"8\" halign=\"left\">n_votes</th>\n",
              "      <th colspan=\"8\" halign=\"left\">runtime</th>\n",
              "    </tr>\n",
              "    <tr>\n",
              "      <th></th>\n",
              "      <th>count</th>\n",
              "      <th>mean</th>\n",
              "      <th>std</th>\n",
              "      <th>min</th>\n",
              "      <th>25%</th>\n",
              "      <th>50%</th>\n",
              "      <th>75%</th>\n",
              "      <th>max</th>\n",
              "      <th>count</th>\n",
              "      <th>mean</th>\n",
              "      <th>std</th>\n",
              "      <th>min</th>\n",
              "      <th>25%</th>\n",
              "      <th>50%</th>\n",
              "      <th>75%</th>\n",
              "      <th>max</th>\n",
              "      <th>count</th>\n",
              "      <th>mean</th>\n",
              "      <th>std</th>\n",
              "      <th>min</th>\n",
              "      <th>25%</th>\n",
              "      <th>50%</th>\n",
              "      <th>75%</th>\n",
              "      <th>max</th>\n",
              "      <th>count</th>\n",
              "      <th>mean</th>\n",
              "      <th>std</th>\n",
              "      <th>min</th>\n",
              "      <th>25%</th>\n",
              "      <th>50%</th>\n",
              "      <th>75%</th>\n",
              "      <th>max</th>\n",
              "      <th>count</th>\n",
              "      <th>mean</th>\n",
              "      <th>std</th>\n",
              "      <th>min</th>\n",
              "      <th>25%</th>\n",
              "      <th>50%</th>\n",
              "      <th>75%</th>\n",
              "      <th>max</th>\n",
              "    </tr>\n",
              "    <tr>\n",
              "      <th>rated</th>\n",
              "      <th></th>\n",
              "      <th></th>\n",
              "      <th></th>\n",
              "      <th></th>\n",
              "      <th></th>\n",
              "      <th></th>\n",
              "      <th></th>\n",
              "      <th></th>\n",
              "      <th></th>\n",
              "      <th></th>\n",
              "      <th></th>\n",
              "      <th></th>\n",
              "      <th></th>\n",
              "      <th></th>\n",
              "      <th></th>\n",
              "      <th></th>\n",
              "      <th></th>\n",
              "      <th></th>\n",
              "      <th></th>\n",
              "      <th></th>\n",
              "      <th></th>\n",
              "      <th></th>\n",
              "      <th></th>\n",
              "      <th></th>\n",
              "      <th></th>\n",
              "      <th></th>\n",
              "      <th></th>\n",
              "      <th></th>\n",
              "      <th></th>\n",
              "      <th></th>\n",
              "      <th></th>\n",
              "      <th></th>\n",
              "      <th></th>\n",
              "      <th></th>\n",
              "      <th></th>\n",
              "      <th></th>\n",
              "      <th></th>\n",
              "      <th></th>\n",
              "      <th></th>\n",
              "      <th></th>\n",
              "    </tr>\n",
              "  </thead>\n",
              "  <tbody>\n",
              "    <tr>\n",
              "      <th>Approved</th>\n",
              "      <td>1.0</td>\n",
              "      <td>1962.000000</td>\n",
              "      <td>NaN</td>\n",
              "      <td>1962.0</td>\n",
              "      <td>1962.00</td>\n",
              "      <td>1962.0</td>\n",
              "      <td>1962.0</td>\n",
              "      <td>1962.0</td>\n",
              "      <td>1.0</td>\n",
              "      <td>8.300000</td>\n",
              "      <td>NaN</td>\n",
              "      <td>8.3</td>\n",
              "      <td>8.300</td>\n",
              "      <td>8.30</td>\n",
              "      <td>8.300</td>\n",
              "      <td>8.3</td>\n",
              "      <td>1.0</td>\n",
              "      <td>100.000000</td>\n",
              "      <td>NaN</td>\n",
              "      <td>100.0</td>\n",
              "      <td>100.00</td>\n",
              "      <td>100.0</td>\n",
              "      <td>100.00</td>\n",
              "      <td>100.0</td>\n",
              "      <td>1.0</td>\n",
              "      <td>249245.000000</td>\n",
              "      <td>NaN</td>\n",
              "      <td>249245.0</td>\n",
              "      <td>249245.00</td>\n",
              "      <td>249245.0</td>\n",
              "      <td>249245.00</td>\n",
              "      <td>249245.0</td>\n",
              "      <td>1.0</td>\n",
              "      <td>228.000000</td>\n",
              "      <td>NaN</td>\n",
              "      <td>228.0</td>\n",
              "      <td>228.00</td>\n",
              "      <td>228.0</td>\n",
              "      <td>228.00</td>\n",
              "      <td>228.0</td>\n",
              "    </tr>\n",
              "    <tr>\n",
              "      <th>G</th>\n",
              "      <td>14.0</td>\n",
              "      <td>1981.857143</td>\n",
              "      <td>27.430632</td>\n",
              "      <td>1931.0</td>\n",
              "      <td>1961.25</td>\n",
              "      <td>1993.0</td>\n",
              "      <td>2002.5</td>\n",
              "      <td>2010.0</td>\n",
              "      <td>14.0</td>\n",
              "      <td>8.257143</td>\n",
              "      <td>0.178516</td>\n",
              "      <td>8.0</td>\n",
              "      <td>8.100</td>\n",
              "      <td>8.30</td>\n",
              "      <td>8.375</td>\n",
              "      <td>8.5</td>\n",
              "      <td>13.0</td>\n",
              "      <td>90.461538</td>\n",
              "      <td>6.411128</td>\n",
              "      <td>78.0</td>\n",
              "      <td>86.00</td>\n",
              "      <td>90.0</td>\n",
              "      <td>95.00</td>\n",
              "      <td>99.0</td>\n",
              "      <td>14.0</td>\n",
              "      <td>508930.000000</td>\n",
              "      <td>309606.974268</td>\n",
              "      <td>152913.0</td>\n",
              "      <td>212055.00</td>\n",
              "      <td>448754.5</td>\n",
              "      <td>808246.25</td>\n",
              "      <td>932387.0</td>\n",
              "      <td>14.0</td>\n",
              "      <td>104.928571</td>\n",
              "      <td>34.949335</td>\n",
              "      <td>81.0</td>\n",
              "      <td>87.25</td>\n",
              "      <td>92.5</td>\n",
              "      <td>102.25</td>\n",
              "      <td>212.0</td>\n",
              "    </tr>\n",
              "    <tr>\n",
              "      <th>Not Rated</th>\n",
              "      <td>53.0</td>\n",
              "      <td>1965.094340</td>\n",
              "      <td>27.640734</td>\n",
              "      <td>1921.0</td>\n",
              "      <td>1949.00</td>\n",
              "      <td>1957.0</td>\n",
              "      <td>1985.0</td>\n",
              "      <td>2018.0</td>\n",
              "      <td>53.0</td>\n",
              "      <td>8.258491</td>\n",
              "      <td>0.173686</td>\n",
              "      <td>8.1</td>\n",
              "      <td>8.100</td>\n",
              "      <td>8.20</td>\n",
              "      <td>8.300</td>\n",
              "      <td>8.9</td>\n",
              "      <td>22.0</td>\n",
              "      <td>88.363636</td>\n",
              "      <td>9.882864</td>\n",
              "      <td>60.0</td>\n",
              "      <td>85.25</td>\n",
              "      <td>89.0</td>\n",
              "      <td>96.75</td>\n",
              "      <td>98.0</td>\n",
              "      <td>53.0</td>\n",
              "      <td>126065.188679</td>\n",
              "      <td>101049.376008</td>\n",
              "      <td>25969.0</td>\n",
              "      <td>63621.00</td>\n",
              "      <td>101805.0</td>\n",
              "      <td>148587.00</td>\n",
              "      <td>618485.0</td>\n",
              "      <td>53.0</td>\n",
              "      <td>127.056604</td>\n",
              "      <td>41.710271</td>\n",
              "      <td>45.0</td>\n",
              "      <td>98.00</td>\n",
              "      <td>125.0</td>\n",
              "      <td>143.00</td>\n",
              "      <td>321.0</td>\n",
              "    </tr>\n",
              "    <tr>\n",
              "      <th>PG</th>\n",
              "      <td>36.0</td>\n",
              "      <td>1984.166667</td>\n",
              "      <td>21.291850</td>\n",
              "      <td>1941.0</td>\n",
              "      <td>1972.00</td>\n",
              "      <td>1983.5</td>\n",
              "      <td>2001.0</td>\n",
              "      <td>2018.0</td>\n",
              "      <td>36.0</td>\n",
              "      <td>8.261111</td>\n",
              "      <td>0.180915</td>\n",
              "      <td>8.0</td>\n",
              "      <td>8.100</td>\n",
              "      <td>8.20</td>\n",
              "      <td>8.400</td>\n",
              "      <td>8.7</td>\n",
              "      <td>34.0</td>\n",
              "      <td>84.941176</td>\n",
              "      <td>9.960349</td>\n",
              "      <td>58.0</td>\n",
              "      <td>79.00</td>\n",
              "      <td>85.5</td>\n",
              "      <td>90.75</td>\n",
              "      <td>100.0</td>\n",
              "      <td>36.0</td>\n",
              "      <td>419095.888889</td>\n",
              "      <td>305809.739422</td>\n",
              "      <td>56598.0</td>\n",
              "      <td>151238.50</td>\n",
              "      <td>350030.5</td>\n",
              "      <td>562224.25</td>\n",
              "      <td>1148630.0</td>\n",
              "      <td>36.0</td>\n",
              "      <td>120.083333</td>\n",
              "      <td>27.136033</td>\n",
              "      <td>89.0</td>\n",
              "      <td>102.75</td>\n",
              "      <td>117.0</td>\n",
              "      <td>125.50</td>\n",
              "      <td>224.0</td>\n",
              "    </tr>\n",
              "    <tr>\n",
              "      <th>PG-13</th>\n",
              "      <td>30.0</td>\n",
              "      <td>2005.000000</td>\n",
              "      <td>10.579746</td>\n",
              "      <td>1968.0</td>\n",
              "      <td>2001.00</td>\n",
              "      <td>2005.5</td>\n",
              "      <td>2011.0</td>\n",
              "      <td>2019.0</td>\n",
              "      <td>30.0</td>\n",
              "      <td>8.390000</td>\n",
              "      <td>0.282049</td>\n",
              "      <td>8.0</td>\n",
              "      <td>8.125</td>\n",
              "      <td>8.35</td>\n",
              "      <td>8.575</td>\n",
              "      <td>9.0</td>\n",
              "      <td>30.0</td>\n",
              "      <td>75.966667</td>\n",
              "      <td>9.532099</td>\n",
              "      <td>59.0</td>\n",
              "      <td>68.25</td>\n",
              "      <td>75.5</td>\n",
              "      <td>81.75</td>\n",
              "      <td>95.0</td>\n",
              "      <td>30.0</td>\n",
              "      <td>861365.500000</td>\n",
              "      <td>549847.045347</td>\n",
              "      <td>33658.0</td>\n",
              "      <td>403533.25</td>\n",
              "      <td>736711.5</td>\n",
              "      <td>1319191.00</td>\n",
              "      <td>2137023.0</td>\n",
              "      <td>30.0</td>\n",
              "      <td>145.000000</td>\n",
              "      <td>22.339080</td>\n",
              "      <td>107.0</td>\n",
              "      <td>130.00</td>\n",
              "      <td>140.5</td>\n",
              "      <td>161.00</td>\n",
              "      <td>201.0</td>\n",
              "    </tr>\n",
              "    <tr>\n",
              "      <th>Passed</th>\n",
              "      <td>6.0</td>\n",
              "      <td>1941.166667</td>\n",
              "      <td>8.588752</td>\n",
              "      <td>1926.0</td>\n",
              "      <td>1939.25</td>\n",
              "      <td>1942.0</td>\n",
              "      <td>1947.0</td>\n",
              "      <td>1950.0</td>\n",
              "      <td>6.0</td>\n",
              "      <td>8.233333</td>\n",
              "      <td>0.150555</td>\n",
              "      <td>8.1</td>\n",
              "      <td>8.125</td>\n",
              "      <td>8.20</td>\n",
              "      <td>8.275</td>\n",
              "      <td>8.5</td>\n",
              "      <td>4.0</td>\n",
              "      <td>97.000000</td>\n",
              "      <td>1.414214</td>\n",
              "      <td>95.0</td>\n",
              "      <td>96.50</td>\n",
              "      <td>97.5</td>\n",
              "      <td>98.00</td>\n",
              "      <td>98.0</td>\n",
              "      <td>6.0</td>\n",
              "      <td>146881.500000</td>\n",
              "      <td>70904.117739</td>\n",
              "      <td>73840.0</td>\n",
              "      <td>107735.75</td>\n",
              "      <td>122226.5</td>\n",
              "      <td>173192.00</td>\n",
              "      <td>269910.0</td>\n",
              "      <td>6.0</td>\n",
              "      <td>133.500000</td>\n",
              "      <td>56.909577</td>\n",
              "      <td>67.0</td>\n",
              "      <td>111.50</td>\n",
              "      <td>125.5</td>\n",
              "      <td>135.00</td>\n",
              "      <td>238.0</td>\n",
              "    </tr>\n",
              "    <tr>\n",
              "      <th>R</th>\n",
              "      <td>108.0</td>\n",
              "      <td>1996.138889</td>\n",
              "      <td>13.893089</td>\n",
              "      <td>1960.0</td>\n",
              "      <td>1986.00</td>\n",
              "      <td>1998.0</td>\n",
              "      <td>2007.0</td>\n",
              "      <td>2019.0</td>\n",
              "      <td>108.0</td>\n",
              "      <td>8.323148</td>\n",
              "      <td>0.255265</td>\n",
              "      <td>8.0</td>\n",
              "      <td>8.100</td>\n",
              "      <td>8.30</td>\n",
              "      <td>8.500</td>\n",
              "      <td>9.3</td>\n",
              "      <td>105.0</td>\n",
              "      <td>79.590476</td>\n",
              "      <td>10.694800</td>\n",
              "      <td>55.0</td>\n",
              "      <td>73.00</td>\n",
              "      <td>80.0</td>\n",
              "      <td>89.00</td>\n",
              "      <td>100.0</td>\n",
              "      <td>108.0</td>\n",
              "      <td>642164.351852</td>\n",
              "      <td>403421.993663</td>\n",
              "      <td>32050.0</td>\n",
              "      <td>339143.50</td>\n",
              "      <td>621183.5</td>\n",
              "      <td>868385.00</td>\n",
              "      <td>2162107.0</td>\n",
              "      <td>108.0</td>\n",
              "      <td>134.731481</td>\n",
              "      <td>27.189404</td>\n",
              "      <td>80.0</td>\n",
              "      <td>116.75</td>\n",
              "      <td>130.5</td>\n",
              "      <td>150.25</td>\n",
              "      <td>229.0</td>\n",
              "    </tr>\n",
              "    <tr>\n",
              "      <th>TV-MA</th>\n",
              "      <td>1.0</td>\n",
              "      <td>1996.000000</td>\n",
              "      <td>NaN</td>\n",
              "      <td>1996.0</td>\n",
              "      <td>1996.00</td>\n",
              "      <td>1996.0</td>\n",
              "      <td>1996.0</td>\n",
              "      <td>1996.0</td>\n",
              "      <td>1.0</td>\n",
              "      <td>8.300000</td>\n",
              "      <td>NaN</td>\n",
              "      <td>8.3</td>\n",
              "      <td>8.300</td>\n",
              "      <td>8.30</td>\n",
              "      <td>8.300</td>\n",
              "      <td>8.3</td>\n",
              "      <td>0.0</td>\n",
              "      <td>NaN</td>\n",
              "      <td>NaN</td>\n",
              "      <td>NaN</td>\n",
              "      <td>NaN</td>\n",
              "      <td>NaN</td>\n",
              "      <td>NaN</td>\n",
              "      <td>NaN</td>\n",
              "      <td>1.0</td>\n",
              "      <td>57545.000000</td>\n",
              "      <td>NaN</td>\n",
              "      <td>57545.0</td>\n",
              "      <td>57545.00</td>\n",
              "      <td>57545.0</td>\n",
              "      <td>57545.00</td>\n",
              "      <td>57545.0</td>\n",
              "      <td>1.0</td>\n",
              "      <td>128.000000</td>\n",
              "      <td>NaN</td>\n",
              "      <td>128.0</td>\n",
              "      <td>128.00</td>\n",
              "      <td>128.0</td>\n",
              "      <td>128.00</td>\n",
              "      <td>128.0</td>\n",
              "    </tr>\n",
              "  </tbody>\n",
              "</table>\n",
              "</div>"
            ],
            "text/plain": [
              "            year                                  ... runtime                      \n",
              "           count         mean        std     min  ...     25%    50%     75%    max\n",
              "rated                                             ...                              \n",
              "Approved     1.0  1962.000000        NaN  1962.0  ...  228.00  228.0  228.00  228.0\n",
              "G           14.0  1981.857143  27.430632  1931.0  ...   87.25   92.5  102.25  212.0\n",
              "Not Rated   53.0  1965.094340  27.640734  1921.0  ...   98.00  125.0  143.00  321.0\n",
              "PG          36.0  1984.166667  21.291850  1941.0  ...  102.75  117.0  125.50  224.0\n",
              "PG-13       30.0  2005.000000  10.579746  1968.0  ...  130.00  140.5  161.00  201.0\n",
              "Passed       6.0  1941.166667   8.588752  1926.0  ...  111.50  125.5  135.00  238.0\n",
              "R          108.0  1996.138889  13.893089  1960.0  ...  116.75  130.5  150.25  229.0\n",
              "TV-MA        1.0  1996.000000        NaN  1996.0  ...  128.00  128.0  128.00  128.0\n",
              "\n",
              "[8 rows x 40 columns]"
            ]
          },
          "metadata": {
            "tags": []
          },
          "execution_count": 47
        }
      ]
    },
    {
      "cell_type": "code",
      "metadata": {
        "id": "zQACtarQDWr_",
        "colab_type": "code",
        "colab": {
          "base_uri": "https://localhost:8080/",
          "height": 551
        },
        "outputId": "73c8755f-abbc-4a7c-dff3-f871e9d2998e"
      },
      "source": [
        "df[df.rated.isin(['G','GP','PG','PG-13','R'])].groupby('rated').name.count().plot(kind='bar',figsize=[12,8],title='Number of movies by MPAA rating')"
      ],
      "execution_count": 58,
      "outputs": [
        {
          "output_type": "execute_result",
          "data": {
            "text/plain": [
              "<matplotlib.axes._subplots.AxesSubplot at 0x7fb931e83358>"
            ]
          },
          "metadata": {
            "tags": []
          },
          "execution_count": 58
        },
        {
          "output_type": "display_data",
          "data": {
            "image/png": "[encoded data removed]",
            "text/plain": [
              "<Figure size 864x576 with 1 Axes>"
            ]
          },
          "metadata": {
            "tags": []
          }
        }
      ]
    },
    {
      "cell_type": "code",
      "metadata": {
        "id": "2En4XBE6hSk2",
        "colab_type": "code",
        "colab": {
          "base_uri": "https://localhost:8080/",
          "height": 551
        },
        "outputId": "9d11c9a3-a749-4de2-f0da-ee1dd6cb62c6"
      },
      "source": [
        "df[df.rated.isin(['G','GP','PG','PG-13','R'])].groupby('rated').n_votes.sum().plot(kind='bar', figsize=[12,8],title='Number of votes by MPAA rating')"
      ],
      "execution_count": 60,
      "outputs": [
        {
          "output_type": "execute_result",
          "data": {
            "text/plain": [
              "<matplotlib.axes._subplots.AxesSubplot at 0x7fb931db1da0>"
            ]
          },
          "metadata": {
            "tags": []
          },
          "execution_count": 60
        },
        {
          "output_type": "display_data",
          "data": {
            "image/png": "[encoded data removed]",
            "text/plain": [
              "<Figure size 864x576 with 1 Axes>"
            ]
          },
          "metadata": {
            "tags": []
          }
        }
      ]
    },
    {
      "cell_type": "code",
      "metadata": {
        "id": "qOObhlpC819X",
        "colab_type": "code",
        "outputId": "40047f60-63d5-4fae-acfa-e9208b521425",
        "colab": {
          "base_uri": "https://localhost:8080/",
          "height": 551
        }
      },
      "source": [
        "df[df.rated.isin(['G','GP','PG','PG-13','R'])].groupby('rated').runtime.mean().plot(kind='bar', figsize=[12,8],title='Average Runtime by MPAA Rating')"
      ],
      "execution_count": 61,
      "outputs": [
        {
          "output_type": "execute_result",
          "data": {
            "text/plain": [
              "<matplotlib.axes._subplots.AxesSubplot at 0x7fb931d3d9b0>"
            ]
          },
          "metadata": {
            "tags": []
          },
          "execution_count": 61
        },
        {
          "output_type": "display_data",
          "data": {
            "image/png": "[encoded data removed]",
            "text/plain": [
              "<Figure size 864x576 with 1 Axes>"
            ]
          },
          "metadata": {
            "tags": []
          }
        }
      ]
    },
    {
      "cell_type": "code",
      "metadata": {
        "id": "aK7Iy2WqDMCq",
        "colab_type": "code",
        "colab": {
          "base_uri": "https://localhost:8080/",
          "height": 551
        },
        "outputId": "68a2f948-4f87-44e9-dc6b-d76d225a2afb"
      },
      "source": [
        "df[df.rated.isin(['G','GP','PG','PG-13','R'])].groupby('rated').metascore.mean().plot(kind='bar', figsize=[12,8],title='Average Metascore by MPAA Rating')"
      ],
      "execution_count": 62,
      "outputs": [
        {
          "output_type": "execute_result",
          "data": {
            "text/plain": [
              "<matplotlib.axes._subplots.AxesSubplot at 0x7fb931d672b0>"
            ]
          },
          "metadata": {
            "tags": []
          },
          "execution_count": 62
        },
        {
          "output_type": "display_data",
          "data": {
            "image/png": "[encoded data removed]",
            "text/plain": [
              "<Figure size 864x576 with 1 Axes>"
            ]
          },
          "metadata": {
            "tags": []
          }
        }
      ]
    },
    {
      "cell_type": "code",
      "metadata": {
        "id": "mlCRpuNgEW2x",
        "colab_type": "code",
        "colab": {
          "base_uri": "https://localhost:8080/",
          "height": 460
        },
        "outputId": "1360373c-075a-457b-badb-dcbc5ad2c32b"
      },
      "source": [
        "# plot data\n",
        "fig, ax = plt.subplots(figsize=(15,7))\n",
        "# use unstack()\n",
        "#data.groupby(['date','type']).count()['amount'].unstack().plot(ax=ax)\n",
        "df[df.rated.isin(['G','GP','PG','PG-13','R'])].groupby(['year','rated']).metascore.mean().unstack().plot(ax=ax,kind='line')"
      ],
      "execution_count": 67,
      "outputs": [
        {
          "output_type": "execute_result",
          "data": {
            "text/plain": [
              "<matplotlib.axes._subplots.AxesSubplot at 0x7fb9316f7a58>"
            ]
          },
          "metadata": {
            "tags": []
          },
          "execution_count": 67
        },
        {
          "output_type": "display_data",
          "data": {
            "image/png": "[encoded data removed]",
            "text/plain": [
              "<Figure size 1080x504 with 1 Axes>"
            ]
          },
          "metadata": {
            "tags": []
          }
        }
      ]
    },
    {
      "cell_type": "code",
      "metadata": {
        "id": "-Q6fp0NLHpjJ",
        "colab_type": "code",
        "colab": {
          "base_uri": "https://localhost:8080/",
          "height": 459
        },
        "outputId": "cd616dce-d241-4c19-d0aa-247bf902af5d"
      },
      "source": [
        "ax = df.groupby('year').metascore.mean()\n",
        "sns.jointplot(x=ax.index, y=ax, kind='reg')"
      ],
      "execution_count": 88,
      "outputs": [
        {
          "output_type": "execute_result",
          "data": {
            "text/plain": [
              "<seaborn.axisgrid.JointGrid at 0x7fb922fc7240>"
            ]
          },
          "metadata": {
            "tags": []
          },
          "execution_count": 88
        },
        {
          "output_type": "display_data",
          "data": {
            "image/png": "[encoded data removed]",
            "text/plain": [
              "<Figure size 432x432 with 3 Axes>"
            ]
          },
          "metadata": {
            "tags": []
          }
        }
      ]
    },
    {
      "cell_type": "code",
      "metadata": {
        "id": "TTl_xg_aGn8P",
        "colab_type": "code",
        "colab": {}
      },
      "source": [
        ""
      ],
      "execution_count": 0,
      "outputs": []
    }
  ]
}