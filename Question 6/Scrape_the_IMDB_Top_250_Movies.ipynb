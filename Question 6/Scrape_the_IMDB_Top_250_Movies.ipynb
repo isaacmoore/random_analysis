{
  "nbformat": 4,
  "nbformat_minor": 0,
  "metadata": {
    "colab": {
      "name": "Scrape the IMDB Top 250 Movies.ipynb",
      "provenance": [],
      "collapsed_sections": [],
      "include_colab_link": true
    },
    "kernelspec": {
      "name": "python3",
      "display_name": "Python 3"
    }
  },
  "cells": [
    {
      "cell_type": "markdown",
      "metadata": {
        "id": "view-in-github",
        "colab_type": "text"
      },
      "source": [
        "<a href=\"https://colab.research.google.com/github/isaacmoore/random_analysis/blob/master/Question%206/Scrape_the_IMDB_Top_250_Movies.ipynb\" target=\"_parent\"><img src=\"https://colab.research.google.com/assets/colab-badge.svg\" alt=\"Open In Colab\"/></a>"
      ]
    },
    {
      "cell_type": "code",
      "metadata": {
        "id": "DdghO7_w3nyB",
        "colab_type": "code",
        "colab": {}
      },
      "source": [
        "import pandas as pd\n",
        "import numpy as np\n",
        "import requests\n",
        "from bs4 import BeautifulSoup"
      ],
      "execution_count": 0,
      "outputs": []
    },
    {
      "cell_type": "code",
      "metadata": {
        "id": "5bzTKdAM40rK",
        "colab_type": "code",
        "colab": {}
      },
      "source": [
        "url = 'https://www.imdb.com/search/title/?groups=top_250&sort=user_rating,desc&start='\n",
        "starter = ['1','51','101','151','201']"
      ],
      "execution_count": 0,
      "outputs": []
    },
    {
      "cell_type": "code",
      "metadata": {
        "id": "DYSivgiw30Yq",
        "colab_type": "code",
        "colab": {}
      },
      "source": [
        "movie_list = []\n",
        "movie_rank = []\n",
        "movie_year = []\n",
        "movie_rating = []\n",
        "movie_metascore = []\n",
        "movie_n_votes = []\n",
        "\n",
        "for x in starter:\n",
        "  page = requests.get(url+x)\n",
        "  soup = BeautifulSoup(page.content, \"html.parser\")\n",
        "  movie_containers = soup.find_all('div', class_ = 'lister-item mode-advanced')\n",
        "\n",
        "  for i in range(len(movie_containers)):\n",
        "    movie = movie_containers[i]\n",
        "    #Movie Name\n",
        "    movie_list.append(movie.h3.a.text)\n",
        "    #Rank\n",
        "    movie_rank.append(movie.h3.span.text)\n",
        "    #Year\n",
        "    a = movie.h3\n",
        "    movie_year.append(a.find_all('span', class_ = 'lister-item-year text-muted unbold')[0].text)\n",
        "    #Rating\n",
        "    movie_rating.append(movie.strong.text)\n",
        "    #Meta Score\n",
        "    if len(movie.find_all('div', class_ = 'inline-block ratings-metascore')) == 0:\n",
        "      movie_metascore.append(np.NaN)\n",
        "    else:\n",
        "      mscore = movie.find_all('div', class_ = 'inline-block ratings-metascore')[-1]\n",
        "      movie_metascore.append(int(mscore.span.text))\n",
        "    #Number of Votes\n",
        "    votes = movie.find('span', attrs = {'name':'nv'})\n",
        "    movie_n_votes.append(int(votes['data-value']))\n"
      ],
      "execution_count": 0,
      "outputs": []
    },
    {
      "cell_type": "code",
      "metadata": {
        "id": "enbCa1EJ6g-r",
        "colab_type": "code",
        "outputId": "bc11a940-0a6c-4999-d333-1af625af557d",
        "colab": {
          "base_uri": "https://localhost:8080/",
          "height": 204
        }
      },
      "source": [
        "#=== Creating the dataframe ===\n",
        "df = pd.DataFrame({'rank':movie_rank,'name':movie_list,'year':movie_year,'rating':movie_rating,'metascore':movie_metascore,'n_votes':movie_n_votes})\n",
        "df.tail()"
      ],
      "execution_count": 0,
      "outputs": [
        {
          "output_type": "execute_result",
          "data": {
            "text/html": [
              "<div>\n",
              "<style scoped>\n",
              "    .dataframe tbody tr th:only-of-type {\n",
              "        vertical-align: middle;\n",
              "    }\n",
              "\n",
              "    .dataframe tbody tr th {\n",
              "        vertical-align: top;\n",
              "    }\n",
              "\n",
              "    .dataframe thead th {\n",
              "        text-align: right;\n",
              "    }\n",
              "</style>\n",
              "<table border=\"1\" class=\"dataframe\">\n",
              "  <thead>\n",
              "    <tr style=\"text-align: right;\">\n",
              "      <th></th>\n",
              "      <th>rank</th>\n",
              "      <th>name</th>\n",
              "      <th>year</th>\n",
              "      <th>rating</th>\n",
              "      <th>metascore</th>\n",
              "      <th>n_votes</th>\n",
              "    </tr>\n",
              "  </thead>\n",
              "  <tbody>\n",
              "    <tr>\n",
              "      <th>245</th>\n",
              "      <td>246.</td>\n",
              "      <td>Monsters, Inc.</td>\n",
              "      <td>(2001)</td>\n",
              "      <td>8.0</td>\n",
              "      <td>78.0</td>\n",
              "      <td>760803</td>\n",
              "    </tr>\n",
              "    <tr>\n",
              "      <th>246</th>\n",
              "      <td>247.</td>\n",
              "      <td>Aladdin</td>\n",
              "      <td>(1992)</td>\n",
              "      <td>8.0</td>\n",
              "      <td>86.0</td>\n",
              "      <td>338385</td>\n",
              "    </tr>\n",
              "    <tr>\n",
              "      <th>247</th>\n",
              "      <td>248.</td>\n",
              "      <td>Castle in the Sky</td>\n",
              "      <td>(1986)</td>\n",
              "      <td>8.0</td>\n",
              "      <td>78.0</td>\n",
              "      <td>131730</td>\n",
              "    </tr>\n",
              "    <tr>\n",
              "      <th>248</th>\n",
              "      <td>249.</td>\n",
              "      <td>The Terminator</td>\n",
              "      <td>(1984)</td>\n",
              "      <td>8.0</td>\n",
              "      <td>84.0</td>\n",
              "      <td>752437</td>\n",
              "    </tr>\n",
              "    <tr>\n",
              "      <th>249</th>\n",
              "      <td>250.</td>\n",
              "      <td>Butch Cassidy and the Sundance Kid</td>\n",
              "      <td>(1969)</td>\n",
              "      <td>8.0</td>\n",
              "      <td>66.0</td>\n",
              "      <td>191384</td>\n",
              "    </tr>\n",
              "  </tbody>\n",
              "</table>\n",
              "</div>"
            ],
            "text/plain": [
              "     rank                                name  ... metascore n_votes\n",
              "245  246.                      Monsters, Inc.  ...      78.0  760803\n",
              "246  247.                             Aladdin  ...      86.0  338385\n",
              "247  248.                   Castle in the Sky  ...      78.0  131730\n",
              "248  249.                      The Terminator  ...      84.0  752437\n",
              "249  250.  Butch Cassidy and the Sundance Kid  ...      66.0  191384\n",
              "\n",
              "[5 rows x 6 columns]"
            ]
          },
          "metadata": {
            "tags": []
          },
          "execution_count": 139
        }
      ]
    },
    {
      "cell_type": "code",
      "metadata": {
        "id": "5-odgXNUIUFf",
        "colab_type": "code",
        "colab": {}
      },
      "source": [
        "#=== Cleaning the dataframe ===\n",
        "#df['year'] = df.year.str.replace('(','').str.replace(')','')\n",
        "#df['year'] = df.year.str.replace('I ','')\n",
        "#df['year'] = df.year.astype(int)\n",
        "df['rating'] = df.rating.astype(float)"
      ],
      "execution_count": 0,
      "outputs": []
    },
    {
      "cell_type": "code",
      "metadata": {
        "id": "iC6s3AJfKjhR",
        "colab_type": "code",
        "outputId": "1af636ee-c2d5-41ab-edb3-1677e026f325",
        "colab": {
          "base_uri": "https://localhost:8080/",
          "height": 204
        }
      },
      "source": [
        "df.head()"
      ],
      "execution_count": 0,
      "outputs": [
        {
          "output_type": "execute_result",
          "data": {
            "text/html": [
              "<div>\n",
              "<style scoped>\n",
              "    .dataframe tbody tr th:only-of-type {\n",
              "        vertical-align: middle;\n",
              "    }\n",
              "\n",
              "    .dataframe tbody tr th {\n",
              "        vertical-align: top;\n",
              "    }\n",
              "\n",
              "    .dataframe thead th {\n",
              "        text-align: right;\n",
              "    }\n",
              "</style>\n",
              "<table border=\"1\" class=\"dataframe\">\n",
              "  <thead>\n",
              "    <tr style=\"text-align: right;\">\n",
              "      <th></th>\n",
              "      <th>rank</th>\n",
              "      <th>name</th>\n",
              "      <th>year</th>\n",
              "      <th>rating</th>\n",
              "      <th>metascore</th>\n",
              "      <th>n_votes</th>\n",
              "    </tr>\n",
              "  </thead>\n",
              "  <tbody>\n",
              "    <tr>\n",
              "      <th>0</th>\n",
              "      <td>1.</td>\n",
              "      <td>The Shawshank Redemption</td>\n",
              "      <td>1994</td>\n",
              "      <td>9.3</td>\n",
              "      <td>80.0</td>\n",
              "      <td>2161214</td>\n",
              "    </tr>\n",
              "    <tr>\n",
              "      <th>1</th>\n",
              "      <td>2.</td>\n",
              "      <td>The Godfather</td>\n",
              "      <td>1972</td>\n",
              "      <td>9.2</td>\n",
              "      <td>100.0</td>\n",
              "      <td>1483295</td>\n",
              "    </tr>\n",
              "    <tr>\n",
              "      <th>2</th>\n",
              "      <td>3.</td>\n",
              "      <td>The Dark Knight</td>\n",
              "      <td>2008</td>\n",
              "      <td>9.0</td>\n",
              "      <td>84.0</td>\n",
              "      <td>2136136</td>\n",
              "    </tr>\n",
              "    <tr>\n",
              "      <th>3</th>\n",
              "      <td>4.</td>\n",
              "      <td>The Godfather: Part II</td>\n",
              "      <td>1974</td>\n",
              "      <td>9.0</td>\n",
              "      <td>90.0</td>\n",
              "      <td>1032895</td>\n",
              "    </tr>\n",
              "    <tr>\n",
              "      <th>4</th>\n",
              "      <td>5.</td>\n",
              "      <td>The Lord of the Rings: The Return of the King</td>\n",
              "      <td>2003</td>\n",
              "      <td>8.9</td>\n",
              "      <td>94.0</td>\n",
              "      <td>1534621</td>\n",
              "    </tr>\n",
              "  </tbody>\n",
              "</table>\n",
              "</div>"
            ],
            "text/plain": [
              "  rank                                           name  ...  metascore  n_votes\n",
              "0   1.                       The Shawshank Redemption  ...       80.0  2161214\n",
              "1   2.                                  The Godfather  ...      100.0  1483295\n",
              "2   3.                                The Dark Knight  ...       84.0  2136136\n",
              "3   4.                         The Godfather: Part II  ...       90.0  1032895\n",
              "4   5.  The Lord of the Rings: The Return of the King  ...       94.0  1534621\n",
              "\n",
              "[5 rows x 6 columns]"
            ]
          },
          "metadata": {
            "tags": []
          },
          "execution_count": 200
        }
      ]
    },
    {
      "cell_type": "markdown",
      "metadata": {
        "id": "xpA-9ltfTTvK",
        "colab_type": "text"
      },
      "source": [
        "## EDA"
      ]
    },
    {
      "cell_type": "markdown",
      "metadata": {
        "id": "pz-UjHsWSN5f",
        "colab_type": "text"
      },
      "source": [
        "Movie with the worst metascore"
      ]
    },
    {
      "cell_type": "code",
      "metadata": {
        "id": "JpFobR-NLr0_",
        "colab_type": "code",
        "outputId": "f23ba343-1a61-4453-cbb6-ce5e41b2d612",
        "colab": {
          "base_uri": "https://localhost:8080/",
          "height": 80
        }
      },
      "source": [
        "df[(df.metascore == df.metascore.min())]"
      ],
      "execution_count": 0,
      "outputs": [
        {
          "output_type": "execute_result",
          "data": {
            "text/html": [
              "<div>\n",
              "<style scoped>\n",
              "    .dataframe tbody tr th:only-of-type {\n",
              "        vertical-align: middle;\n",
              "    }\n",
              "\n",
              "    .dataframe tbody tr th {\n",
              "        vertical-align: top;\n",
              "    }\n",
              "\n",
              "    .dataframe thead th {\n",
              "        text-align: right;\n",
              "    }\n",
              "</style>\n",
              "<table border=\"1\" class=\"dataframe\">\n",
              "  <thead>\n",
              "    <tr style=\"text-align: right;\">\n",
              "      <th></th>\n",
              "      <th>rank</th>\n",
              "      <th>name</th>\n",
              "      <th>year</th>\n",
              "      <th>rating</th>\n",
              "      <th>metascore</th>\n",
              "      <th>n_votes</th>\n",
              "    </tr>\n",
              "  </thead>\n",
              "  <tbody>\n",
              "    <tr>\n",
              "      <th>90</th>\n",
              "      <td>91.</td>\n",
              "      <td>Snatch</td>\n",
              "      <td>2000</td>\n",
              "      <td>8.3</td>\n",
              "      <td>55.0</td>\n",
              "      <td>734973</td>\n",
              "    </tr>\n",
              "  </tbody>\n",
              "</table>\n",
              "</div>"
            ],
            "text/plain": [
              "   rank    name  year  rating  metascore  n_votes\n",
              "90  91.  Snatch  2000     8.3       55.0   734973"
            ]
          },
          "metadata": {
            "tags": []
          },
          "execution_count": 227
        }
      ]
    },
    {
      "cell_type": "markdown",
      "metadata": {
        "id": "kSDvwwJiSWqj",
        "colab_type": "text"
      },
      "source": [
        "Movie with the most number of votes"
      ]
    },
    {
      "cell_type": "code",
      "metadata": {
        "id": "TWFaCdU2SU4F",
        "colab_type": "code",
        "outputId": "2fbeffe3-3780-4deb-cc9d-55b80dcf5743",
        "colab": {
          "base_uri": "https://localhost:8080/",
          "height": 80
        }
      },
      "source": [
        "df[(df.n_votes == df.n_votes.max())]"
      ],
      "execution_count": 0,
      "outputs": [
        {
          "output_type": "execute_result",
          "data": {
            "text/html": [
              "<div>\n",
              "<style scoped>\n",
              "    .dataframe tbody tr th:only-of-type {\n",
              "        vertical-align: middle;\n",
              "    }\n",
              "\n",
              "    .dataframe tbody tr th {\n",
              "        vertical-align: top;\n",
              "    }\n",
              "\n",
              "    .dataframe thead th {\n",
              "        text-align: right;\n",
              "    }\n",
              "</style>\n",
              "<table border=\"1\" class=\"dataframe\">\n",
              "  <thead>\n",
              "    <tr style=\"text-align: right;\">\n",
              "      <th></th>\n",
              "      <th>rank</th>\n",
              "      <th>name</th>\n",
              "      <th>year</th>\n",
              "      <th>rating</th>\n",
              "      <th>metascore</th>\n",
              "      <th>n_votes</th>\n",
              "    </tr>\n",
              "  </thead>\n",
              "  <tbody>\n",
              "    <tr>\n",
              "      <th>0</th>\n",
              "      <td>1.</td>\n",
              "      <td>The Shawshank Redemption</td>\n",
              "      <td>1994</td>\n",
              "      <td>9.3</td>\n",
              "      <td>80.0</td>\n",
              "      <td>2161214</td>\n",
              "    </tr>\n",
              "  </tbody>\n",
              "</table>\n",
              "</div>"
            ],
            "text/plain": [
              "  rank                      name  year  rating  metascore  n_votes\n",
              "0   1.  The Shawshank Redemption  1994     9.3       80.0  2161214"
            ]
          },
          "metadata": {
            "tags": []
          },
          "execution_count": 232
        }
      ]
    },
    {
      "cell_type": "code",
      "metadata": {
        "id": "QE_uuAMEQDBn",
        "colab_type": "code",
        "outputId": "ba694897-bd58-43da-aa35-cf614e798cad",
        "colab": {
          "base_uri": "https://localhost:8080/",
          "height": 296
        }
      },
      "source": [
        "df.groupby('year').rating.mean().plot()"
      ],
      "execution_count": 0,
      "outputs": [
        {
          "output_type": "execute_result",
          "data": {
            "text/plain": [
              "<matplotlib.axes._subplots.AxesSubplot at 0x7f8f6d732f98>"
            ]
          },
          "metadata": {
            "tags": []
          },
          "execution_count": 207
        },
        {
          "output_type": "display_data",
          "data": {
            "image/png": "[encoded data removed]",
            "text/plain": [
              "<Figure size 432x288 with 1 Axes>"
            ]
          },
          "metadata": {
            "tags": []
          }
        }
      ]
    },
    {
      "cell_type": "code",
      "metadata": {
        "id": "ARafRrEAPbyr",
        "colab_type": "code",
        "outputId": "10758385-83bc-4763-9dc9-9bfbdc6c88a1",
        "colab": {
          "base_uri": "https://localhost:8080/",
          "height": 421
        }
      },
      "source": [
        "df.groupby('year').name.count().plot(kind='bar',figsize=[18,6])"
      ],
      "execution_count": 0,
      "outputs": [
        {
          "output_type": "execute_result",
          "data": {
            "text/plain": [
              "<matplotlib.axes._subplots.AxesSubplot at 0x7f8f6a690fd0>"
            ]
          },
          "metadata": {
            "tags": []
          },
          "execution_count": 218
        },
        {
          "output_type": "display_data",
          "data": {
            "image/png": "[encoded data removed]",
            "text/plain": [
              "<Figure size 1296x432 with 1 Axes>"
            ]
          },
          "metadata": {
            "tags": []
          }
        }
      ]
    },
    {
      "cell_type": "code",
      "metadata": {
        "id": "h37fenCkRGfh",
        "colab_type": "code",
        "outputId": "c9e229cc-7f01-4ec1-eeb7-2f1862e1eee0",
        "colab": {
          "base_uri": "https://localhost:8080/",
          "height": 296
        }
      },
      "source": [
        "df.groupby('year').n_votes.sum().plot()"
      ],
      "execution_count": 0,
      "outputs": [
        {
          "output_type": "execute_result",
          "data": {
            "text/plain": [
              "<matplotlib.axes._subplots.AxesSubplot at 0x7f8f6d401860>"
            ]
          },
          "metadata": {
            "tags": []
          },
          "execution_count": 221
        },
        {
          "output_type": "display_data",
          "data": {
            "image/png": "[encoded data removed]",
            "text/plain": [
              "<Figure size 432x288 with 1 Axes>"
            ]
          },
          "metadata": {
            "tags": []
          }
        }
      ]
    }
  ]
}